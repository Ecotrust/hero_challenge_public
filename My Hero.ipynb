{
 "cells": [
  {
   "cell_type": "markdown",
   "id": "1f8db268",
   "metadata": {},
   "source": [
    "# Your Favorite Website!\n",
    "\n",
    "Please fill in the missing information in the specified blocks below to populate a fan site dedicated to a noun (person, place, or thing) that inspires you! Please review the project description on your github repository for details.\n",
    "\n",
    "It is expected that you should be able to execute full control over the site purely from this Jupyter Notebook! While we do not wish to stifle your artistic spirit, and will not disqualify you for making tweaks to the template files if you find you can't control enough via the code, but we do not want to see the introduction of new tools and frameworks. Also note that all of the files generated for your final solution are ignored by Git ON PURPOSE. You are expected to commit your updates to this notebook ONLY, and through it we'll reproduce your result.\n",
    "\n",
    "Also note: while we weren't able to deliver on a coding challenge that is language-agnostic, we've tried to keep this challenge syntax light - we believe the languages you will use (Python, Javascript, HTML, and CSS) have basics that are easy to learn. If you don't believe you can complete this challenge in under 4 hours, please reach out to rhodges@ecotrust.org with specifics about which parts are costing you more time than the estimates provided in each `# TODO:` section below."
   ]
  },
  {
   "cell_type": "code",
   "execution_count": 1,
   "id": "a084c70e",
   "metadata": {},
   "outputs": [],
   "source": [
    "# DO NOT EDIT\n",
    "# Some initial setup of your Python\n",
    "import osmnx as ox # A tool for querying Open Street Map\n",
    "import geopandas as gpd # A tool for managing geo data\n",
    "import mediawikiapi # A tool to manage MediaWiki APIs\n",
    "# By default this will reference the english Wikipedia page: https://en.wikipedia.org\n",
    "wiki_api = mediawikiapi.MediaWikiAPI()"
   ]
  },
  {
   "cell_type": "markdown",
   "id": "56a4d3ce",
   "metadata": {},
   "source": [
    "It is highly recommended that you stick with Wikipedia for now, but if you NEED to pull from a different MediWiki to make your vision complete, the syntax to connect looks something like this:\n",
    "```\n",
    "    wiki_api = mediawikiapi.MediaWikiAPI(\n",
    "        config=mediawikiapi.Config(mediawiki_url=\"https://www.explainxkcd.com/wiki/api.php\")\n",
    "    )\n",
    "```\n",
    "Note that you will replace the 'mediawiki_url' with the 'api.php' endpoint of your target MediaWiki.\n",
    "The format should look like either:\n",
    "   * https://your.wiki.source/w/api.php, or\n",
    "   * https://your.wiki.source/wiki/api.php\n",
    "   \n",
    "If your target is not build on [MediaWiki](https://www.mediawiki.org/wiki/MediaWiki) this will not work."
   ]
  },
  {
   "cell_type": "markdown",
   "id": "fa759802",
   "metadata": {},
   "source": [
    "## Step 1: Pick your hero!\n",
    "\n",
    "We recommend starting with Wikipedia. If your first choice of hero does not have a Wikipedia article, we HIGHLY recommend picking another that is. This challenge includes the [mediawikiapi](https://pypi.org/project/mediawikiapi/) module, which should support most wikis built with MediaWiki (including Wikipedia) and includes the option to draw from other sources, but to remove WikiPedia we cannot promise that you will not also have to rewrite sections of code that are outside the scope of the intended project.\n",
    "\n",
    "Hints for picking a good hero to make this project easier:\n",
    "* Pick a hero with an article on Wikipedia\n",
    "* Pick a hero that is/was not well-known to be an overt racist, sexual predator, mass murderer, or would otherwise likely include some NSFW baggage.\n",
    "* Pick a hero that has, does, or would exist in a particular physical place on Earth\n",
    "   * You will be presenting a map related to your hero\n",
    "   * It may also save you some time to avoid heroes related to the extreme ends of most coordinate systems, i.e.:\n",
    "      * Not Santa Claus (the North Pole will be hard to map)\n",
    "      * Eastern Russia, Alaska, and Fiji all cross 180/-180 longitude, and New Zealand is very close.\n",
    "      * The Polar Ice Caps and Antarctica would be a challenge for the designers of this challenge.\n",
    "\n",
    "Once you find your preferred topic, please pull the ID for your topic from the WikiPedia URL. For example, if your hero is Pando, the heaviest known organism, the WikiPedia URL is https://en.wikipedia.org/wiki/Pando_(tree) and so your ID would be 'Pando_(tree)'.\n",
    "\n",
    "BUG WARNING: I have found an issue where if your ID includes both the string 'ad' and '\\_' (underscore) some characters are removed from your search string. It's possible this happens with other combinations as well (or the trigger is something else). I have opened [a ticket](https://github.com/lehinevych/MediaWikiAPI/issues/67), so maybe it'll be resolved by the time you work on this."
   ]
  },
  {
   "cell_type": "code",
   "execution_count": 2,
   "id": "12c31752",
   "metadata": {},
   "outputs": [],
   "source": [
    "# TODO: [10 minutes, mostly to decide your 'hero' topic and pull the ID from Wikipedia]\n",
    "# Edit this constant to represent your Wikipedia article ID\n",
    "WIKIPEDIA_ID = ''"
   ]
  },
  {
   "cell_type": "code",
   "execution_count": 3,
   "id": "efd9ed0b",
   "metadata": {},
   "outputs": [],
   "source": [
    "# REMOVE\n",
    "WIKIPEDIA_ID = 'Pando_(tree)'"
   ]
  },
  {
   "cell_type": "code",
   "execution_count": 4,
   "id": "8d737f76",
   "metadata": {},
   "outputs": [
    {
     "name": "stdout",
     "output_type": "stream",
     "text": [
      "You will use the variable 'hero_page' to represent your API connection with Wikipedia from now on.\n"
     ]
    }
   ],
   "source": [
    "# DO NOT EDIT\n",
    "try:\n",
    "    hero_page = wiki_api.page(WIKIPEDIA_ID) \n",
    "    print(\"You will use the variable 'hero_page' to represent your API connection with Wikipedia from now on.\")\n",
    "except Exception as e:\n",
    "    print(\"Your WIKIPEDIA_ID was not found. Please review and try again\")\n",
    "    print(\"For reference, your given value results in the URL 'https://en.wikipedia.org/wiki/{}' for your article.\".format(WIKIPEDIA_ID))\n",
    "    print(e)"
   ]
  },
  {
   "cell_type": "markdown",
   "id": "0fcb8e66",
   "metadata": {},
   "source": [
    "## Step 2: Get your info into HTML\n",
    "\n",
    "You will be shoving a lot of data into a web page template using Python. Normally we'd use Django's built-in template language for this (similar to Jinja) but for a project this simple, we can make our own!\n",
    "\n",
    "A: Review which common types of content your Wiki Article Offers\n",
    "B: Review and update the HTML templates below to best showcase your content (or build new custom ones)\n",
    "C: Stuff these HTML elements into a Python Dictionary for later final assembly"
   ]
  },
  {
   "cell_type": "code",
   "execution_count": 5,
   "id": "0bad34eb",
   "metadata": {},
   "outputs": [
    {
     "name": "stdout",
     "output_type": "stream",
     "text": [
      "backlinks, backlinks_ids, categories, content, coordinates, disambiguate_pages, html, images, infobox, lang_title, language, links, original_title, pageid, pageprops, parent_id, references, request, revision_id, section, sections, summary, title, url\n"
     ]
    }
   ],
   "source": [
    "# DO NOT EDIT\n",
    "# This is called a List Comprehension. You should not need to touch this code.\n",
    "page_elements = [x for x in dir(hero_page) if not x[0] == '_']\n",
    "print(\", \".join(page_elements))\n",
    "# The only purpose of this code is to show you (below) what elements are associated with your Wiki article:"
   ]
  },
  {
   "cell_type": "markdown",
   "id": "416e47e6",
   "metadata": {},
   "source": [
    "The list above includes all of the types of content available from your Wikipedia entry in alphabetical order. We will take a few key ones and build an HTML web page out of them. To do this, we will start by reading each into an HTML element string, and store those strings in a data structure called a [Dictionary](https://www.w3schools.com/python/python_dictionaries.asp). With this, we can organize and loop over each of these elements and stuff them into a full HTML document to be rendered.\n",
    "\n",
    "The key elements we expect all articles to have are: title, url, summary, section, sections, images, and (hopefully) coordinates."
   ]
  },
  {
   "cell_type": "code",
   "execution_count": 6,
   "id": "fcd141e6",
   "metadata": {},
   "outputs": [],
   "source": [
    "# DO NOT EDIT\n",
    "page_content = {}\n",
    "if hasattr(hero_page, 'coordinates'):\n",
    "    page_content['coordinates'] = \", \".join([str(float(x)) for x in hero_page.coordinates])\n",
    "else:\n",
    "    page_content['coordinates'] = False"
   ]
  },
  {
   "cell_type": "code",
   "execution_count": 7,
   "id": "6df16f05",
   "metadata": {},
   "outputs": [],
   "source": [
    "# TODO: [1 minute]\n",
    "# Add value to the key 'url' as-is to page_content (no need to wrap in HTML tags or reformat)"
   ]
  },
  {
   "cell_type": "code",
   "execution_count": 8,
   "id": "a76f5ac3",
   "metadata": {},
   "outputs": [],
   "source": [
    "# DO NOT EDIT\n",
    "# You will want your title to be big and bold. Let's store it as an HTML H1 element\n",
    "# This is the one element that we will build for you:\n",
    "page_content['title'] = \"<h1>\" + hero_page.title + \"</h1>\""
   ]
  },
  {
   "cell_type": "code",
   "execution_count": 9,
   "id": "e8d934f2",
   "metadata": {},
   "outputs": [],
   "source": [
    "# TODO: [1-5 minutes]\n",
    "# You will want to apply different logic/styles to different types of containers. \n",
    "# Wrap your content in HTML tags of your choice, keeping in mind how you will want to style these with CSS later...\n",
    "# For now, let's just add the 'summary'\n",
    "page_content['summary'] = 'TODO'"
   ]
  },
  {
   "cell_type": "code",
   "execution_count": 10,
   "id": "5c0026b1",
   "metadata": {},
   "outputs": [],
   "source": [
    "# TODO: [5 minutes]\n",
    "# There are likely more than one image in 'images'. Since knowing Python isn't a requirement, \n",
    "#    we'll build the first for loop for you, but trust that you can handle the syntax to build your HTML img elements\n",
    "\n",
    "image_html_elements = \"\"\n",
    "# This iterates over the list of images, assigning each to the 'image' variable 1 at a time\n",
    "for image in hero_page.images:\n",
    "    image_html_elements = image_html_elements + \"TODO\"\n",
    "    \n",
    "page_content['images'] = image_html_elements"
   ]
  },
  {
   "cell_type": "markdown",
   "id": "64b6c2d5",
   "metadata": {},
   "source": [
    "Reproducing the sections can be a bit harder. Let's look at the two page elements we haven't addressed:\n",
    " * **sections**: This is a list of all of the content sections in the article. These will differ wildly from article to article.\n",
    " * **section** (no 's'): This is a function - give it one of the values provided by `hero_page.sections` and you will get the content.\n",
    " \n",
    "Below we will print the list of sections in your article for reference. In the folowing `# TODO` section, loop over each value in 'sections' to "
   ]
  },
  {
   "cell_type": "code",
   "execution_count": 11,
   "id": "fe35de2d",
   "metadata": {},
   "outputs": [
    {
     "name": "stdout",
     "output_type": "stream",
     "text": [
      "History, Size and age, Range of age estimates, See also, References, Additional references from OECD quote in history section, External links\n"
     ]
    }
   ],
   "source": [
    "# DO NOT EDIT\n",
    "print(\", \".join(hero_page.sections))"
   ]
  },
  {
   "cell_type": "code",
   "execution_count": 12,
   "id": "7100c638",
   "metadata": {},
   "outputs": [],
   "source": [
    "# TODO: [5-20 minutes, depending on comfort w/ Python]\n",
    "# Build your sections elements and add them as one long string to the page_content under the key 'sections'\n",
    "\n",
    "page_content['sections'] = 'TODO'"
   ]
  },
  {
   "cell_type": "markdown",
   "id": "59ddb5b2",
   "metadata": {},
   "source": [
    "## Step 3: Get your map info\n",
    "\n",
    "Many Wikipedia articles have a 'coordinates' element if it is an object that can be mapped (generally something physical that doesn't move much). These (if present) represent a point. Many do not have this element (if your hero is a person, they probably didn't just sit in one place and earn your admiration for it).\n",
    "\n",
    "In any case, points are kinda boring. If there is a town, region, or nation that your hero was strongly associated with, see if you can pull it up in [Open Street Maps](https://www.openstreetmap.org).\n",
    "\n",
    "For example, if I'm still talking about Pando (the aspen in Utah), typing 'Pando' into the search bar doesn't get me a good hit right away -- depending on where my map starts I see things like \"Pando, Bolivia\" (a state) or \"Pando, Uruguay\" (a city). Be patient, use the 'more results' button and you'll likely get your match. I eventually find mine with the title 'Pando Forest' or better yet 'Pando Forest, Utah, USA'. You want to be specific enough to narrow the results down to 1 hit.\n",
    "\n",
    "If your hero is the honey badger, you will see a 'map' image in the infobox, but that doesn't mean the GIS data for that feature is readily available. You may need to be picky about a type of honey badger that is limited to a country, or at least one continent (again, avoiding North America and Asia as continents that cross the 180/-180 longitude is a good idea)."
   ]
  },
  {
   "cell_type": "code",
   "execution_count": 13,
   "id": "7957ceb2",
   "metadata": {},
   "outputs": [],
   "source": [
    "# TODO: [5 minutes to find your geometry search term on OSM]\n",
    "# Get place boundary related to the place name as a geodataframe\n",
    "\n",
    "#hero_geodataframe = ox.geocode_to_gdf('TODO')"
   ]
  },
  {
   "cell_type": "code",
   "execution_count": 14,
   "id": "12b477d5",
   "metadata": {},
   "outputs": [],
   "source": [
    "# REMOVE\n",
    "hero_geodataframe = ox.geocode_to_gdf('Pando Forest, Utah')"
   ]
  },
  {
   "cell_type": "code",
   "execution_count": 15,
   "id": "cc66c340",
   "metadata": {},
   "outputs": [
    {
     "data": {
      "text/plain": [
       "<Axes: >"
      ]
     },
     "execution_count": 15,
     "metadata": {},
     "output_type": "execute_result"
    },
    {
     "data": {
      "image/png": "[encoded data removed]",
      "text/plain": [
       "<Figure size 640x480 with 1 Axes>"
      ]
     },
     "metadata": {},
     "output_type": "display_data"
    }
   ],
   "source": [
    "# DO NOT EDIT\n",
    "# Show your shape to gut-check it looks like the feature you expect to map\n",
    "hero_geodataframe.plot()"
   ]
  },
  {
   "cell_type": "markdown",
   "id": "6d4dde03",
   "metadata": {},
   "source": [
    "## Step 4: Build your map\n",
    "\n",
    "To draw your map on a webpage, you'll be using a tool called [OpenLayers](https://openlayers.org/). Using it just to render GeoJSON onto a basemap might be overkill (Leaflet is lighter) OpenLayers is incredibly feature-rich and [well documented](https://openlayers.org/en/latest/apidoc/) with [tons of examples](https://openlayers.org/en/latest/examples/). The HTML template we'll use already pulls OL in from a CDN, so we don't have to worry about installing it.\n",
    "\n",
    "You're not required to know OpenLayers, so most of the coding lift will be done for you. We would like to see some care to create custom styles in the appropriate section below."
   ]
  },
  {
   "cell_type": "code",
   "execution_count": 16,
   "id": "e8d7e6f3",
   "metadata": {},
   "outputs": [],
   "source": [
    "# TODO: [30 minutes]\n",
    "\n",
    "# To build an OpenLayers map, we need to build several components first.\n",
    "# For the purposes of this challenge, we'll build strings of JavaScript code to populate our templates\n",
    "\n",
    "# Below you will be adding your own colors, line thicknesses, etc.. to apply style (cartography)\n",
    "#    to your map. The color values are RGBA in the format [Red, Green, Blue, Alpha].\n",
    "#    Use this tool to get the RGB of whatever color you pick: https://color.adobe.com/create/color-wheel\n",
    "#    RGB values range from 0-255 and are decimal integers.\n",
    "#    A or 'Alpha' is just how transparent you want your color, from 0 (completely invisible) to 1 (opaque).\n",
    "\n",
    "styles = \"const styles = {};\"\n",
    "styles += \"const width = 3;\"\n",
    "# If your feature is one polygon, edit this:\n",
    "styles += \"\"\"\n",
    "styles['Polygon'] = [\n",
    "    new ol.style.Style({\n",
    "        fill: new ol.style.Fill({\n",
    "            color: [255, 255, 255, 0.5],  // Transparent white\n",
    "        }),\n",
    "        stroke: new ol.style.Stroke({\n",
    "            color: [255, 153, 0, 1],     // Orange\n",
    "            width: width,\n",
    "        }),\n",
    "    }),\n",
    "];\n",
    "\"\"\"\n",
    "\n",
    "# If your feature has more than 1 polygon, keep this:\n",
    "styles += \"\"\"\n",
    "styles['MultiPolygon'] = \n",
    "    styles['Polygon'];\n",
    "\"\"\"\n",
    "\n",
    "# If your feature is one or more line-strings, use this:\n",
    "styles += \"\"\"\n",
    "styles['LineString'] =\n",
    "  styles['LineString'] = [\n",
    "   new ol.style.Style({\n",
    "     stroke: new ol.style.Stroke({\n",
    "       color: [255, 255, 255, 1],   // White\n",
    "       width: width + 2,\n",
    "     }),\n",
    "   }),\n",
    "   new ol.style.Style({\n",
    "     stroke: new ol.style.Stroke({\n",
    "       color: [0, 153, 255, 1],     // Blue\n",
    "       width: width,\n",
    "     }),\n",
    "   }),\n",
    " ];\n",
    " styles['MultiLineString'] = styles['LineString'];\n",
    "\"\"\"\n",
    "\n",
    "styles += \"\"\"\n",
    "styles['Circle'] = styles['Polygon'].concat(\n",
    "    styles['LineString']\n",
    ");\n",
    "\"\"\"\n",
    "\n",
    "# If your feature is one or more points, use this:\n",
    "styles += \"\"\" \n",
    "styles['Point'] = [\n",
    "   new ol.style.Style({\n",
    "     image: new ol.style.Circle({\n",
    "       radius: width * 2,\n",
    "       fill: new ol.style.Fill({\n",
    "         color: [0, 153, 255, 1],      // Blue\n",
    "       }),\n",
    "       stroke: new ol.style.Stroke({\n",
    "         color: [255, 255, 255, 1],    // White\n",
    "         width: width / 2,\n",
    "       }),\n",
    "     }),\n",
    "     zIndex: Infinity,\n",
    "   }),\n",
    "];\n",
    "styles['MultiPoint'] =\n",
    "     styles['Point'];\n",
    "\"\"\"\n",
    "\n",
    "# Finally, to bring it all together to support an arbitary collection of points, lines, & polygons:\n",
    "styles += \"\"\"\n",
    "styles['GeometryCollection'] =\n",
    "     styles['Polygon'].concat(\n",
    "         styles['LineString'],\n",
    "         styles['Point']\n",
    "     );\n",
    "\"\"\""
   ]
  },
  {
   "cell_type": "code",
   "execution_count": 17,
   "id": "8f9a5623",
   "metadata": {},
   "outputs": [],
   "source": [
    "# DO NOT EDIT\n",
    "# Add your style to the 'MAPSTYLE' key in our content dictionary\n",
    "page_content['MAPSTYLE'] = styles\n",
    "\n",
    "# Convert your geometry to a text format to store in our page_content dictionary.\n",
    "page_content['GEOJSON'] = hero_geodataframe.to_json()\n",
    "\n",
    "#One more thing: Let's build that 'map' element that OpenLayers will want to render to\n",
    "page_content['map_element'] = '<div id=\"map\"></div>'"
   ]
  },
  {
   "cell_type": "markdown",
   "id": "ae3dd751",
   "metadata": {},
   "source": [
    "## Step 5: Styles\n",
    "\n",
    "Whatever you type into the box below will populate the `hero.css` file used to style your page. Use this to style:\n",
    "* Headers\n",
    "* Your different element types\n",
    "* The size/shape of the map box\n",
    "* Your background\n",
    "* Anything else you can think of\n",
    "\n",
    "At this point, we ARE assuming you know CSS basics, so we are not providing you with much, other than a start on the 'map' element, which will be required to make it show."
   ]
  },
  {
   "cell_type": "code",
   "execution_count": 18,
   "id": "fd629cf8",
   "metadata": {},
   "outputs": [],
   "source": [
    "page_content['CSS'] = \"\"\"\n",
    "#map {\n",
    "    height: 450px;\n",
    "    width: 450px;\n",
    "    border: 1px solid blue;\n",
    "}\n",
    "\n",
    "/* TODO: Fill this out */\n",
    "\n",
    "\"\"\"\n"
   ]
  },
  {
   "cell_type": "code",
   "execution_count": 19,
   "id": "983af846",
   "metadata": {},
   "outputs": [
    {
     "name": "stdout",
     "output_type": "stream",
     "text": [
      "page_content keys:\n",
      "\t - coordinates\n",
      "\t - title\n",
      "\t - summary\n",
      "\t - images\n",
      "\t - sections\n",
      "\t - MAPSTYLE\n",
      "\t - GEOJSON\n",
      "\t - map_element\n",
      "\t - CSS\n"
     ]
    }
   ],
   "source": [
    "# DO NOT EDIT\n",
    "print(\"page_content keys:\")\n",
    "for key in page_content.keys():\n",
    "    print(\"\\t - {}\".format(key))"
   ]
  },
  {
   "cell_type": "markdown",
   "id": "0d3c7306",
   "metadata": {},
   "source": [
    "## Step 6: Assemble your HTML\n",
    "\n",
    "We now have a `page_content` dictionary with the keys listed above. They should include:\n",
    "* coordinates\n",
    "   * (string) 2 comma-separated values (lat, lon)\n",
    "* url\n",
    "   * (string) The URL of your Wiki article\n",
    "* title\n",
    "   * (string) HTML header for your page\n",
    "* summary\n",
    "   * (string) HTML summary of your article\n",
    "* images\n",
    "   * (list) List of HTML elements\n",
    "* sections\n",
    "   * (dictionary) Dictionary of HTML values referenced by section name keys\n",
    "* **GEOJSON**\n",
    "   * (string) GeoJSON formatted representation of your feature(s)\n",
    "* **MAPSTYLE**\n",
    "   * (string) JavaScript OpenLayers Style definition\n",
    "* map_element\n",
    "   * (string) HTML element for OpenLayers to bind to\n",
    "* **CSS**\n",
    "   * (string) CSS for your site's styles\n",
    "\n",
    "The ones in CAPS you can find in the templates:\n",
    "* In templates/hero_map.js.template:\n",
    "   * `{{ GEOJSON }}` is assigned to a constant called `geojsonObject`\n",
    "   * `{{ MAPSTYLE }}` is plopped in just below.\n",
    "* In templates/hero.css.template:\n",
    "   * `{{ CSS }}` is the only content not commented out.\n",
    "   \n",
    "At this point, that all makes sense: you should have written and populated those values with code (JavaScript or CSS) that fits in each.\n",
    "\n",
    "There is only one instance of `{{ ALLCAPS }}` remaining in the template files we haven't addressed:\n",
    "* `{{ WIKI_CONTENT }}` in templates/hero.html.template\n",
    "\n",
    "We will populate that now with HTML. Using the lower-case keys in 'page_content' arrange them into a large"
   ]
  },
  {
   "cell_type": "code",
   "execution_count": 20,
   "id": "bd8f5287",
   "metadata": {},
   "outputs": [],
   "source": [
    "# Use this python box as a scratch-pad/debugging area\n",
    "#page_content['sections'].keys()\n",
    "#page_content['sections']['History']"
   ]
  },
  {
   "cell_type": "code",
   "execution_count": 21,
   "id": "066d58a9",
   "metadata": {},
   "outputs": [],
   "source": [
    "# TODO: [ 45 minutes ]\n",
    "# Organize, assemble and assign your elements below, and assign them \n",
    "#    to the correct key in the page_content dictionary"
   ]
  },
  {
   "cell_type": "code",
   "execution_count": 22,
   "id": "9b59cf19",
   "metadata": {},
   "outputs": [],
   "source": [
    "# REMOVE\n",
    "page_content['WIKI_CONTENT'] = page_content['map_element']"
   ]
  },
  {
   "cell_type": "markdown",
   "id": "3471944e",
   "metadata": {},
   "source": [
    "## Step 7: Generate your files"
   ]
  },
  {
   "cell_type": "code",
   "execution_count": 23,
   "id": "cad90f9d",
   "metadata": {},
   "outputs": [],
   "source": [
    "# DO NOT EDIT\n",
    "with open(\"hero/hero.css\", \"w\") as css_out:\n",
    "    with open(\"templates/hero.css.template\",\"r\") as css_in:\n",
    "        css_string = css_in.read().replace(\"{{ CSS }}\",page_content['CSS'])\n",
    "        print(css_string, file=css_out)\n",
    "        \n",
    "with open(\"hero/hero_map.js\", \"w\") as map_out:\n",
    "    with open(\"templates/hero_map.js.template\",\"r\") as map_in:\n",
    "        map_string = map_in.read().replace(\"{{ GEOJSON }}\",page_content['GEOJSON']).replace(\"{{ MAPSTYLE }}\",page_content['MAPSTYLE'])\n",
    "        print(map_string, file=map_out)\n",
    "        \n",
    "with open(\"hero/hero.html\", \"w\") as html_out:\n",
    "    with open(\"templates/hero.html.template\",\"r\") as html_in:\n",
    "        html_string = html_in.read().replace(\"{{ WIKI_CONTENT }}\",page_content['WIKI_CONTENT'])\n",
    "        print(html_string, file=html_out)"
   ]
  },
  {
   "cell_type": "markdown",
   "id": "add1f245",
   "metadata": {},
   "source": [
    "You should now be able to open `./hero/hero.html` in a browser and see your result!\n",
    "\n",
    "Final Checklist:\n",
    "* [ ] Save all changes to this notebook (see the floppy-disk 'save' icon in the top left of this screen)\n",
    "   * VERY IMPORTANT TO DO THIS BEFORE COMMITTING!\n",
    "* [ ] Commit all changes to this notebook\n",
    "* [ ] Save and commit any changes made in the template files (not recommended)\n",
    "* [ ] When viewing your final `html` page, print it to .PDF\n",
    "    * [ ] Save and commit that .PDF at the top of your project `path/to/project/hero_challenge/hero.pdf`\n",
    "* [ ] DO NOT override the git ignore file to include any contents under your 'hero' directory.\n",
    "   * Don't worry that \\__init__.py is in there.\n",
    "   * The files generated by the notebook are not to be shared. We will re-run your notebook. If there are any issues with viewing it, we will check your 'hero.pdf' file to determine what you were trying to do.\n",
    "* [ ] Push all changes to the main branch\n",
    "* [ ] Email rhodges@ecotrust.org to let the team know your results are ready to review prior to your final interview."
   ]
  },
  {
   "cell_type": "code",
   "execution_count": null,
   "id": "594b862b",
   "metadata": {},
   "outputs": [],
   "source": []
  }
 ],
 "metadata": {
  "kernelspec": {
   "display_name": "Python 3 (ipykernel)",
   "language": "python",
   "name": "python3"
  },
  "language_info": {
   "codemirror_mode": {
    "name": "ipython",
    "version": 3
   },
   "file_extension": ".py",
   "mimetype": "text/x-python",
   "name": "python",
   "nbconvert_exporter": "python",
   "pygments_lexer": "ipython3",
   "version": "3.11.4"
  }
 },
 "nbformat": 4,
 "nbformat_minor": 5
}
